{
 "cells": [
  {
   "cell_type": "markdown",
   "id": "df59cc3e",
   "metadata": {},
   "source": [
    "> Это jupyter notebook для тестирования джанго кода.\n",
    "Сначала запускать первый блок."
   ]
  },
  {
   "cell_type": "code",
   "execution_count": 1,
   "id": "34915414",
   "metadata": {},
   "outputs": [
    {
     "name": "stdout",
     "output_type": "stream",
     "text": [
      "Current BASE DIR:  /home/rea/dev/work/barter_platform\n"
     ]
    }
   ],
   "source": [
    "import os, sys\n",
    "from pathlib import Path\n",
    "\n",
    "BASE_DIR = Path().resolve()\n",
    "print(\"Current BASE DIR: \", BASE_DIR)\n",
    "sys.path.insert(0, str(BASE_DIR))\n",
    "os.environ.setdefault(\"DJANGO_SETTINGS_MODULE\", \"config.settings\")\n",
    "os.environ[\"DJANGO_ALLOW_ASYNC_UNSAFE\"] = \"true\"\n",
    "import django\n",
    "\n",
    "django.setup()\n"
   ]
  },
  {
   "cell_type": "code",
   "execution_count": null,
   "id": "d4de3cc4",
   "metadata": {},
   "outputs": [
    {
     "data": {
      "text/plain": [
       "<ImageFieldFile: images/screenshot-2025-05-16_22-39-05.png>"
      ]
     },
     "execution_count": 2,
     "metadata": {},
     "output_type": "execute_result"
    }
   ],
   "source": [
    "from posts.models import Post\n",
    "Post.objects.all()[0].image\n"
   ]
  },
  {
   "cell_type": "code",
   "execution_count": null,
   "id": "a953fcb8",
   "metadata": {},
   "outputs": [
    {
     "data": {
      "text/plain": [
       "<QuerySet [<ExchangeProposal: Обмен от Кресло на Самокат (pending)>, <ExchangeProposal: Обмен от Старый телефон на Кресло (pending)>]>"
      ]
     },
     "execution_count": 3,
     "metadata": {},
     "output_type": "execute_result"
    }
   ],
   "source": [
    "from posts.models import ExchangeProposal\n",
    "[ep.user.username for ep in ExchangeProposal.objects.all()]"
   ]
  },
  {
   "cell_type": "code",
   "execution_count": 17,
   "id": "1b614d5d",
   "metadata": {},
   "outputs": [
    {
     "data": {
      "text/plain": [
       "'Принято'"
      ]
     },
     "execution_count": 17,
     "metadata": {},
     "output_type": "execute_result"
    }
   ],
   "source": [
    "from posts.models import STATUS_CHOICES\n",
    "STATUS_CHOICES.ACCEPTED.label\n",
    "\n"
   ]
  }
 ],
 "metadata": {
  "kernelspec": {
   "display_name": ".venv",
   "language": "python",
   "name": "python3"
  },
  "language_info": {
   "codemirror_mode": {
    "name": "ipython",
    "version": 3
   },
   "file_extension": ".py",
   "mimetype": "text/x-python",
   "name": "python",
   "nbconvert_exporter": "python",
   "pygments_lexer": "ipython3",
   "version": "3.13.3"
  }
 },
 "nbformat": 4,
 "nbformat_minor": 5
}
